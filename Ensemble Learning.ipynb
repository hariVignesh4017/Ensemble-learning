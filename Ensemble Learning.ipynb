{
 "cells": [
  {
   "cell_type": "markdown",
   "id": "05ea9665",
   "metadata": {},
   "source": [
    "                                                    Ensemble Learning"
   ]
  },
  {
   "cell_type": "markdown",
   "id": "3deefc2d",
   "metadata": {},
   "source": [
    "# 1 Can we use Bagging for regression problems\n",
    "Yes, Bagging can be used for regression tasks using Bagging Regressor.\n",
    "It averages predictions from multiple regressors trained on bootstrapped samples.\n",
    "This reduces variance and improves stability.\n",
    "It’s ideal for high-variance models like Decision Trees."
   ]
  },
  {
   "cell_type": "markdown",
   "id": "2dd2614a",
   "metadata": {},
   "source": [
    "# 2 What is the difference between multiple model training and single model training\n",
    "Single model training builds one model on the entire dataset.\n",
    "Multiple model training (ensemble) builds several models and combines them.\n",
    "Ensembles generally increase accuracy and robustness.\n",
    "They reduce the risk of overfitting or underfitting."
   ]
  },
  {
   "cell_type": "markdown",
   "id": "e8aa95de",
   "metadata": {},
   "source": [
    "# 3 Explain the concept of feature randomness in Random Forest\n",
    "In Random Forest, each tree selects a random subset of features for splitting.\n",
    "This reduces correlation between trees and improves model diversity.\n",
    "It helps prevent overfitting.\n",
    "Feature randomness boosts generalization performance."
   ]
  },
  {
   "cell_type": "markdown",
   "id": "c8f3f9de",
   "metadata": {},
   "source": [
    "# 4 What is OOB (Out-of-Bag) Score\n",
    "OOB score is a built-in validation method in bagging.\n",
    "Each model is tested on data not included in its training bootstrap sample.\n",
    "It gives an unbiased performance estimate.\n",
    "No separate validation set is needed."
   ]
  },
  {
   "cell_type": "markdown",
   "id": "296fb237",
   "metadata": {},
   "source": [
    "# 5 How can you measure the importance of features in a Random Forest model\n",
    "Feature importance is measured by how much each feature decreases impurity.\n",
    "Random Forest provides built-in metrics after training.\n",
    "You can also use permutation importance.\n",
    "This helps in feature selection and model interpretation."
   ]
  },
  {
   "cell_type": "markdown",
   "id": "b0005f49",
   "metadata": {},
   "source": [
    "# 6 Explain the working principle of a Bagging Classifier\n",
    "Linear kernel works well for linearly separable data; polynomial adds interaction terms; RBF maps data to infinite dimensions for flexibility.\n",
    "RBF is often the default for complex data, polynomial is good for feature interactions, linear is simpler and faster."
   ]
  },
  {
   "cell_type": "markdown",
   "id": "50b99314",
   "metadata": {},
   "source": [
    "# 7 How do you evaluate a Bagging Classifier’s performance\n",
    "Use accuracy, precision, recall, F1-score, or AUC as needed.\n",
    "OOB score offers internal evaluation without a validation set.\n",
    "Cross-validation can provide robust performance estimates.\n",
    "Compare with baseline models for insight.\n"
   ]
  },
  {
   "cell_type": "markdown",
   "id": "59a64d8f",
   "metadata": {},
   "source": [
    "# 8 How does a Bagging Regressor work\n",
    "It trains multiple regressors on bootstrapped samples of data.\n",
    "Final prediction is the average of all model predictions.\n",
    "This smooths out noise and reduces overfitting.\n",
    "It’s especially effective for unstable regression models."
   ]
  },
  {
   "cell_type": "markdown",
   "id": "513498d5",
   "metadata": {},
   "source": [
    "# 9 What is the main advantage of ensemble techniques\n",
    "They combine multiple models to improve prediction performance.\n",
    "They reduce bias, variance, or both depending on the method.\n",
    "They are more robust to noise and overfitting.\n",
    "Often outperform single models in real-world tasks."
   ]
  },
  {
   "cell_type": "markdown",
   "id": "8672d94f",
   "metadata": {},
   "source": [
    "# 10 What is the main challenge of ensemble methods\n",
    "They are more complex and harder to interpret.\n",
    "They can be computationally expensive and time-consuming.\n",
    "Parameter tuning can be difficult.\n",
    "Ensembles may not help if base models are weak or data is small."
   ]
  },
  {
   "cell_type": "markdown",
   "id": "672fa46f",
   "metadata": {},
   "source": [
    "# 11 Explain the key idea behind ensemble techniques\n",
    "Ensemble learning combines multiple base models to form a stronger model.\n",
    "It leverages the diversity of individual learners.\n",
    "The goal is better generalization and accuracy.\n",
    "Ensembles outperform individual models by averaging or boosting."
   ]
  },
  {
   "cell_type": "markdown",
   "id": "a8fcbc85",
   "metadata": {},
   "source": [
    "# 12 What is a Random Forest Classifier\n",
    "It’s an ensemble of Decision Trees built using bagging and feature randomness.\n",
    "Each tree votes and the majority class becomes the final prediction.\n",
    "It reduces overfitting compared to a single tree.\n",
    "Random Forest is accurate, scalable, and robust."
   ]
  },
  {
   "cell_type": "markdown",
   "id": "5bf2a609",
   "metadata": {},
   "source": [
    "# 13 What are the main types of ensemble techniques\n",
    "Three main types are Bagging, Boosting, and Stacking.\n",
    "Bagging trains models independently; Boosting trains sequentially.\n",
    "Stacking combines multiple models with a meta-learner.\n",
    "Each has unique strengths depending on data and task."
   ]
  },
  {
   "cell_type": "markdown",
   "id": "9fe084f0",
   "metadata": {},
   "source": [
    "# 14 What is ensemble learning in machine learning\n",
    "It is a method of combining multiple models to improve performance.\n",
    "It reduces errors from individual learners.\n",
    "It works by voting, averaging, or learning how to combine models.\n",
    "Common in competitions and real-world applications."
   ]
  },
  {
   "cell_type": "markdown",
   "id": "4c64cc2f",
   "metadata": {},
   "source": [
    "# 15 When should we avoid using ensemble methods\n",
    "Avoid when model simplicity or interpretability is critical.\n",
    "Also avoid with small datasets or when time/resources are limited.\n",
    "If a simple model performs well, ensembles may be unnecessary.\n",
    "They’re not always worth the added complexity."
   ]
  },
  {
   "cell_type": "markdown",
   "id": "5e66893d",
   "metadata": {},
   "source": [
    "# 16 How does Bagging help in reducing overfitting\n",
    "Bagging trains models on different data samples to reduce variance.\n",
    "Averaging predictions smooths out fluctuations caused by overfitting.\n",
    "It reduces model sensitivity to noise.\n",
    "This leads to better generalization on unseen data."
   ]
  },
  {
   "cell_type": "markdown",
   "id": "dceaede7",
   "metadata": {},
   "source": [
    "# 17 Why is Random Forest better than a single Decision Tree\n",
    "A single tree is prone to overfitting and variance.\n",
    "Random Forest averages many trees, reducing error and increasing accuracy.\n",
    "It’s more robust and stable.\n",
    "Also provides insights like feature importance."
   ]
  },
  {
   "cell_type": "markdown",
   "id": "6182c278",
   "metadata": {},
   "source": [
    "# 18 What is the role of bootstrap sampling in Bagging\n",
    "Bootstrap sampling creates varied datasets by sampling with replacement.\n",
    "Each base model sees a slightly different version of the data.\n",
    "This introduces diversity among models.\n",
    "It’s crucial for reducing overfitting and variance."
   ]
  },
  {
   "cell_type": "markdown",
   "id": "c3738454",
   "metadata": {},
   "source": [
    "# 19 What are some real-world applications of ensemble techniques\n",
    "Used in fraud detection, spam filtering, medical diagnosis, and stock prediction.\n",
    "Also applied in recommendation systems, credit scoring, and customer churn.\n",
    "Widely used in image and speech recognition.\n",
    "Ensembles are common in winning Kaggle competitions."
   ]
  },
  {
   "cell_type": "markdown",
   "id": "4b756ffe",
   "metadata": {},
   "source": [
    "# 20 What is the difference between Bagging and Boosting?\n",
    "Bagging trains models in parallel and focuses on variance reduction.\n",
    "Boosting trains sequentially, correcting errors from previous models.\n",
    "Bagging is less prone to overfitting; boosting can overfit if not controlled.\n",
    "Both aim to improve performance but use different strategies."
   ]
  },
  {
   "cell_type": "code",
   "execution_count": 2,
   "id": "a68173fb",
   "metadata": {},
   "outputs": [
    {
     "name": "stdout",
     "output_type": "stream",
     "text": [
      "Bagging Classifier Accuracy: 1.0000\n"
     ]
    }
   ],
   "source": [
    "# 21 Train a Bagging Classifier using Decision Trees on a sample dataset and print model accuracy\n",
    "from sklearn.datasets import load_iris\n",
    "from sklearn.model_selection import train_test_split\n",
    "from sklearn.ensemble import BaggingClassifier\n",
    "from sklearn.tree import DecisionTreeClassifier\n",
    "from sklearn.metrics import accuracy_score\n",
    "\n",
    "# Load dataset\n",
    "iris = load_iris()\n",
    "X, y = iris.data, iris.target\n",
    "\n",
    "# Train-test split\n",
    "X_train, X_test, y_train, y_test = train_test_split(X, y, test_size=0.3, random_state=42)\n",
    "\n",
    "# Create a Bagging Classifier with Decision Trees (use 'estimator' instead of 'base_estimator')\n",
    "bagging_clf = BaggingClassifier(\n",
    "    estimator=DecisionTreeClassifier(),\n",
    "    n_estimators=50,\n",
    "    random_state=42\n",
    ")\n",
    "\n",
    "# Train the model\n",
    "bagging_clf.fit(X_train, y_train)\n",
    "\n",
    "# Predict on test set\n",
    "y_pred = bagging_clf.predict(X_test)\n",
    "\n",
    "# Print accuracy\n",
    "accuracy = accuracy_score(y_test, y_pred)\n",
    "print(f\"Bagging Classifier Accuracy: {accuracy:.4f}\")\n"
   ]
  },
  {
   "cell_type": "code",
   "execution_count": 3,
   "id": "c8655a94",
   "metadata": {},
   "outputs": [
    {
     "name": "stdout",
     "output_type": "stream",
     "text": [
      "Mean Squared Error (MSE): 2887.26\n"
     ]
    }
   ],
   "source": [
    "# 22 Train a Bagging Regressor using Decision Trees and evaluate using Mean Squared Error (MSE)\n",
    "from sklearn.datasets import make_regression\n",
    "from sklearn.model_selection import train_test_split\n",
    "from sklearn.ensemble import BaggingRegressor\n",
    "from sklearn.tree import DecisionTreeRegressor\n",
    "from sklearn.metrics import mean_squared_error\n",
    "\n",
    "# Create a sample regression dataset\n",
    "X, y = make_regression(n_samples=1000, n_features=10, noise=10, random_state=42)\n",
    "\n",
    "# Split into train and test sets\n",
    "X_train, X_test, y_train, y_test = train_test_split(X, y, test_size=0.3, random_state=42)\n",
    "\n",
    "# Create a Bagging Regressor with Decision Trees\n",
    "bagging_regressor = BaggingRegressor(\n",
    "    estimator=DecisionTreeRegressor(),\n",
    "    n_estimators=50,\n",
    "    random_state=42\n",
    ")\n",
    "\n",
    "# Train the model\n",
    "bagging_regressor.fit(X_train, y_train)\n",
    "\n",
    "# Predict on test set\n",
    "y_pred = bagging_regressor.predict(X_test)\n",
    "\n",
    "# Evaluate using MSE\n",
    "mse = mean_squared_error(y_test, y_pred)\n",
    "print(f\"Mean Squared Error (MSE): {mse:.2f}\")\n",
    "\n"
   ]
  },
  {
   "cell_type": "code",
   "execution_count": 4,
   "id": "690828f9",
   "metadata": {},
   "outputs": [
    {
     "name": "stdout",
     "output_type": "stream",
     "text": [
      "Feature Importance Scores:\n",
      "\n",
      "                    Feature  Importance\n",
      "7       mean concave points    0.141934\n",
      "27     worst concave points    0.127136\n",
      "23               worst area    0.118217\n",
      "6            mean concavity    0.080557\n",
      "20             worst radius    0.077975\n",
      "22          worst perimeter    0.074292\n",
      "2            mean perimeter    0.060092\n",
      "3                 mean area    0.053810\n",
      "26          worst concavity    0.041080\n",
      "0               mean radius    0.032312\n",
      "13               area error    0.029538\n",
      "21            worst texture    0.018786\n",
      "25        worst compactness    0.017539\n",
      "10             radius error    0.016435\n",
      "28           worst symmetry    0.012929\n",
      "12          perimeter error    0.011770\n",
      "24         worst smoothness    0.011769\n",
      "1              mean texture    0.011064\n",
      "5          mean compactness    0.009216\n",
      "19  fractal dimension error    0.007135\n",
      "29  worst fractal dimension    0.006924\n",
      "4           mean smoothness    0.006223\n",
      "14         smoothness error    0.005881\n",
      "16          concavity error    0.005816\n",
      "15        compactness error    0.004596\n",
      "18           symmetry error    0.004001\n",
      "17     concave points error    0.003382\n",
      "8             mean symmetry    0.003278\n",
      "11            texture error    0.003172\n",
      "9    mean fractal dimension    0.003140\n"
     ]
    }
   ],
   "source": [
    "# 23 Train a Random Forest Classifier on the Breast Cancer dataset and print feature importance scores\n",
    "from sklearn.datasets import load_breast_cancer\n",
    "from sklearn.ensemble import RandomForestClassifier\n",
    "from sklearn.model_selection import train_test_split\n",
    "import pandas as pd\n",
    "\n",
    "# Load Breast Cancer dataset\n",
    "data = load_breast_cancer()\n",
    "X, y = data.data, data.target\n",
    "feature_names = data.feature_names\n",
    "\n",
    "# Train-test split\n",
    "X_train, X_test, y_train, y_test = train_test_split(X, y, test_size=0.3, random_state=42)\n",
    "\n",
    "# Train a Random Forest Classifier\n",
    "rf_clf = RandomForestClassifier(n_estimators=100, random_state=42)\n",
    "rf_clf.fit(X_train, y_train)\n",
    "\n",
    "# Get feature importances\n",
    "importances = rf_clf.feature_importances_\n",
    "\n",
    "# Create a DataFrame to display feature importances\n",
    "feature_importance_df = pd.DataFrame({\n",
    "    'Feature': feature_names,\n",
    "    'Importance': importances\n",
    "}).sort_values(by='Importance', ascending=False)\n",
    "\n",
    "# Print feature importance scores\n",
    "print(\"Feature Importance Scores:\\n\")\n",
    "print(feature_importance_df)\n"
   ]
  },
  {
   "cell_type": "code",
   "execution_count": 5,
   "id": "0342e67c",
   "metadata": {},
   "outputs": [
    {
     "name": "stdout",
     "output_type": "stream",
     "text": [
      "Decision Tree MSE: 0.5280\n",
      "Random Forest MSE: 0.2565\n"
     ]
    }
   ],
   "source": [
    "# 24 Train a Random Forest Regressor and compare its performance with a single Decision Tree\n",
    "from sklearn.datasets import fetch_california_housing\n",
    "from sklearn.tree import DecisionTreeRegressor\n",
    "from sklearn.ensemble import RandomForestRegressor\n",
    "from sklearn.metrics import mean_squared_error\n",
    "from sklearn.model_selection import train_test_split\n",
    "\n",
    "# Load dataset\n",
    "data = fetch_california_housing()\n",
    "X, y = data.data, data.target\n",
    "\n",
    "# Train-test split\n",
    "X_train, X_test, y_train, y_test = train_test_split(X, y, test_size=0.3, random_state=42)\n",
    "\n",
    "# Train a single Decision Tree Regressor\n",
    "dt_reg = DecisionTreeRegressor(random_state=42)\n",
    "dt_reg.fit(X_train, y_train)\n",
    "dt_pred = dt_reg.predict(X_test)\n",
    "dt_mse = mean_squared_error(y_test, dt_pred)\n",
    "\n",
    "# Train a Random Forest Regressor\n",
    "rf_reg = RandomForestRegressor(n_estimators=100, random_state=42)\n",
    "rf_reg.fit(X_train, y_train)\n",
    "rf_pred = rf_reg.predict(X_test)\n",
    "rf_mse = mean_squared_error(y_test, rf_pred)\n",
    "\n",
    "# Compare performance\n",
    "print(f\"Decision Tree MSE: {dt_mse:.4f}\")\n",
    "print(f\"Random Forest MSE: {rf_mse:.4f}\")\n",
    "\n"
   ]
  },
  {
   "cell_type": "code",
   "execution_count": 6,
   "id": "fd57a885",
   "metadata": {},
   "outputs": [
    {
     "name": "stdout",
     "output_type": "stream",
     "text": [
      "OOB Score: 0.9613\n"
     ]
    }
   ],
   "source": [
    "# 25 Compute the Out-of-Bag (OOB) Score for a Random Forest Classifier\n",
    "from sklearn.datasets import load_breast_cancer\n",
    "from sklearn.ensemble import RandomForestClassifier\n",
    "\n",
    "# Load dataset\n",
    "data = load_breast_cancer()\n",
    "X, y = data.data, data.target\n",
    "\n",
    "# Train Random Forest with OOB enabled\n",
    "rf_clf = RandomForestClassifier(n_estimators=100, oob_score=True, random_state=42)\n",
    "rf_clf.fit(X, y)\n",
    "\n",
    "# Print OOB score\n",
    "print(f\"OOB Score: {rf_clf.oob_score_:.4f}\")\n",
    "\n"
   ]
  },
  {
   "cell_type": "code",
   "execution_count": 7,
   "id": "1b108f9c",
   "metadata": {},
   "outputs": [
    {
     "name": "stdout",
     "output_type": "stream",
     "text": [
      "Bagging Classifier with SVM Accuracy: 1.0000\n"
     ]
    }
   ],
   "source": [
    "# 26 Train a Bagging Classifier using SVM as a base estimator and print accuracy\n",
    "from sklearn.datasets import load_iris\n",
    "from sklearn.model_selection import train_test_split\n",
    "from sklearn.svm import SVC\n",
    "from sklearn.ensemble import BaggingClassifier\n",
    "from sklearn.metrics import accuracy_score\n",
    "\n",
    "# Load dataset\n",
    "data = load_iris()\n",
    "X, y = data.data, data.target\n",
    "\n",
    "# Train-test split\n",
    "X_train, X_test, y_train, y_test = train_test_split(X, y, test_size=0.3, random_state=42)\n",
    "\n",
    "# Create Bagging Classifier with SVM base estimator\n",
    "svm = SVC(kernel='rbf', gamma='scale')\n",
    "bagging_clf = BaggingClassifier(estimator=svm, n_estimators=10, random_state=42)\n",
    "\n",
    "# Train the model\n",
    "bagging_clf.fit(X_train, y_train)\n",
    "\n",
    "# Predict and evaluate\n",
    "y_pred = bagging_clf.predict(X_test)\n",
    "accuracy = accuracy_score(y_test, y_pred)\n",
    "\n",
    "print(f\"Bagging Classifier with SVM Accuracy: {accuracy:.4f}\")\n",
    "\n"
   ]
  },
  {
   "cell_type": "code",
   "execution_count": 8,
   "id": "bac66538",
   "metadata": {},
   "outputs": [
    {
     "name": "stdout",
     "output_type": "stream",
     "text": [
      "Random Forest Accuracy with different n_estimators:\n",
      "  Trees:  10 | Accuracy: 0.9649\n",
      "  Trees:  50 | Accuracy: 0.9708\n",
      "  Trees: 100 | Accuracy: 0.9708\n",
      "  Trees: 200 | Accuracy: 0.9708\n"
     ]
    }
   ],
   "source": [
    "# 27 Train a Random Forest Classifier with different numbers of trees and compare accuracy\n",
    "from sklearn.datasets import load_breast_cancer\n",
    "from sklearn.ensemble import RandomForestClassifier\n",
    "from sklearn.model_selection import train_test_split\n",
    "from sklearn.metrics import accuracy_score\n",
    "\n",
    "# Load dataset\n",
    "data = load_breast_cancer()\n",
    "X, y = data.data, data.target\n",
    "\n",
    "# Split data\n",
    "X_train, X_test, y_train, y_test = train_test_split(X, y, test_size=0.3, random_state=42)\n",
    "\n",
    "# Different numbers of trees to test\n",
    "n_estimators_list = [10, 50, 100, 200]\n",
    "\n",
    "print(\"Random Forest Accuracy with different n_estimators:\")\n",
    "for n in n_estimators_list:\n",
    "    clf = RandomForestClassifier(n_estimators=n, random_state=42)\n",
    "    clf.fit(X_train, y_train)\n",
    "    y_pred = clf.predict(X_test)\n",
    "    accuracy = accuracy_score(y_test, y_pred)\n",
    "    print(f\"  Trees: {n:3} | Accuracy: {accuracy:.4f}\")\n"
   ]
  },
  {
   "cell_type": "code",
   "execution_count": 9,
   "id": "b6185f73",
   "metadata": {},
   "outputs": [
    {
     "name": "stdout",
     "output_type": "stream",
     "text": [
      "AUC Score: 0.9984\n"
     ]
    }
   ],
   "source": [
    "# 28 Train a Bagging Classifier using Logistic Regression as a base estimator and print AUC score\n",
    "from sklearn.datasets import load_breast_cancer\n",
    "from sklearn.linear_model import LogisticRegression\n",
    "from sklearn.ensemble import BaggingClassifier\n",
    "from sklearn.model_selection import train_test_split\n",
    "from sklearn.metrics import roc_auc_score\n",
    "\n",
    "# Load dataset\n",
    "data = load_breast_cancer()\n",
    "X, y = data.data, data.target\n",
    "\n",
    "# Split data\n",
    "X_train, X_test, y_train, y_test = train_test_split(X, y, test_size=0.3, random_state=42)\n",
    "\n",
    "# Train Bagging Classifier with Logistic Regression\n",
    "bagging_clf = BaggingClassifier(\n",
    "    estimator=LogisticRegression(max_iter=1000, solver='liblinear'),\n",
    "    n_estimators=50,\n",
    "    random_state=42\n",
    ")\n",
    "bagging_clf.fit(X_train, y_train)\n",
    "\n",
    "# Predict probabilities\n",
    "y_proba = bagging_clf.predict_proba(X_test)[:, 1]\n",
    "\n",
    "# Compute AUC score\n",
    "auc_score = roc_auc_score(y_test, y_proba)\n",
    "print(f\"AUC Score: {auc_score:.4f}\")\n"
   ]
  },
  {
   "cell_type": "code",
   "execution_count": 10,
   "id": "68738409",
   "metadata": {},
   "outputs": [
    {
     "name": "stdout",
     "output_type": "stream",
     "text": [
      "Feature Importance Scores:\n",
      "      Feature  Importance\n",
      "0      MedInc    0.526011\n",
      "5    AveOccup    0.138220\n",
      "7   Longitude    0.086124\n",
      "6    Latitude    0.086086\n",
      "1    HouseAge    0.054654\n",
      "2    AveRooms    0.047188\n",
      "4  Population    0.031722\n",
      "3   AveBedrms    0.029995\n",
      "\n",
      "Top 3 Important Features:\n",
      "     Feature  Importance\n",
      "0     MedInc    0.526011\n",
      "5   AveOccup    0.138220\n",
      "7  Longitude    0.086124\n"
     ]
    }
   ],
   "source": [
    "# 29 Train a Random Forest Regressor and analyze feature importance scores\n",
    "from sklearn.datasets import fetch_california_housing\n",
    "from sklearn.ensemble import RandomForestRegressor\n",
    "from sklearn.model_selection import train_test_split\n",
    "import pandas as pd\n",
    "import numpy as np\n",
    "\n",
    "# Load California Housing dataset\n",
    "data = fetch_california_housing()\n",
    "X, y = data.data, data.target\n",
    "feature_names = data.feature_names\n",
    "\n",
    "# Split dataset\n",
    "X_train, X_test, y_train, y_test = train_test_split(X, y, test_size=0.3, random_state=42)\n",
    "\n",
    "# Train Random Forest Regressor\n",
    "rf_reg = RandomForestRegressor(n_estimators=100, random_state=42)\n",
    "rf_reg.fit(X_train, y_train)\n",
    "\n",
    "# Get feature importances\n",
    "importances = rf_reg.feature_importances_\n",
    "\n",
    "# Create a DataFrame for better visualization\n",
    "feat_importance_df = pd.DataFrame({\n",
    "    'Feature': feature_names,\n",
    "    'Importance': importances\n",
    "}).sort_values(by='Importance', ascending=False)\n",
    "\n",
    "print(\"Feature Importance Scores:\")\n",
    "print(feat_importance_df)\n",
    "\n",
    "# Optional: Display top 3 important features\n",
    "top_features = feat_importance_df.head(3)\n",
    "print(\"\\nTop 3 Important Features:\")\n",
    "print(top_features)\n"
   ]
  },
  {
   "cell_type": "code",
   "execution_count": 12,
   "id": "12111405",
   "metadata": {},
   "outputs": [
    {
     "name": "stdout",
     "output_type": "stream",
     "text": [
      "Bagging Classifier Accuracy:     0.9591\n",
      "Random Forest Classifier Accuracy: 0.9708\n"
     ]
    }
   ],
   "source": [
    "# 30 Train an ensemble model using both Bagging and Random Forest and compare accuracy.\n",
    "from sklearn.datasets import load_breast_cancer\n",
    "from sklearn.ensemble import BaggingClassifier, RandomForestClassifier\n",
    "from sklearn.tree import DecisionTreeClassifier\n",
    "from sklearn.model_selection import train_test_split\n",
    "from sklearn.metrics import accuracy_score\n",
    "\n",
    "# Load dataset\n",
    "data = load_breast_cancer()\n",
    "X, y = data.data, data.target\n",
    "\n",
    "# Split dataset\n",
    "X_train, X_test, y_train, y_test = train_test_split(X, y, test_size=0.3, random_state=42)\n",
    "\n",
    "# Bagging with Decision Trees (use 'estimator' param)\n",
    "bagging_clf = BaggingClassifier(\n",
    "    estimator=DecisionTreeClassifier(),\n",
    "    n_estimators=100,\n",
    "    random_state=42\n",
    ")\n",
    "bagging_clf.fit(X_train, y_train)\n",
    "y_pred_bagging = bagging_clf.predict(X_test)\n",
    "acc_bagging = accuracy_score(y_test, y_pred_bagging)\n",
    "\n",
    "# Random Forest Classifier\n",
    "rf_clf = RandomForestClassifier(n_estimators=100, random_state=42)\n",
    "rf_clf.fit(X_train, y_train)\n",
    "y_pred_rf = rf_clf.predict(X_test)\n",
    "acc_rf = accuracy_score(y_test, y_pred_rf)\n",
    "\n",
    "# Results\n",
    "print(f\"Bagging Classifier Accuracy:     {acc_bagging:.4f}\")\n",
    "print(f\"Random Forest Classifier Accuracy: {acc_rf:.4f}\")\n",
    "\n"
   ]
  },
  {
   "cell_type": "code",
   "execution_count": 13,
   "id": "fc432b30",
   "metadata": {},
   "outputs": [
    {
     "name": "stdout",
     "output_type": "stream",
     "text": [
      "Fitting 5 folds for each of 36 candidates, totalling 180 fits\n",
      "Best Hyperparameters: {'max_depth': None, 'min_samples_split': 10, 'n_estimators': 100}\n",
      "Test Accuracy: 0.9649\n"
     ]
    }
   ],
   "source": [
    "# 31 Train a Random Forest Classifier and tune hyperparameters using GridSearch\n",
    "from sklearn.datasets import load_breast_cancer\n",
    "from sklearn.ensemble import RandomForestClassifier\n",
    "from sklearn.model_selection import train_test_split, GridSearchCV\n",
    "from sklearn.metrics import accuracy_score\n",
    "\n",
    "# Load data\n",
    "data = load_breast_cancer()\n",
    "X, y = data.data, data.target\n",
    "\n",
    "# Split data\n",
    "X_train, X_test, y_train, y_test = train_test_split(X, y, test_size=0.3, random_state=42)\n",
    "\n",
    "# Initialize Random Forest\n",
    "rf = RandomForestClassifier(random_state=42)\n",
    "\n",
    "# Define hyperparameter grid\n",
    "param_grid = {\n",
    "    'n_estimators': [50, 100, 200],\n",
    "    'max_depth': [None, 5, 10, 20],\n",
    "    'min_samples_split': [2, 5, 10]\n",
    "}\n",
    "\n",
    "# Setup GridSearchCV\n",
    "grid_search = GridSearchCV(estimator=rf, param_grid=param_grid, cv=5, n_jobs=-1, verbose=1)\n",
    "\n",
    "# Train and tune\n",
    "grid_search.fit(X_train, y_train)\n",
    "\n",
    "# Best parameters and estimator\n",
    "print(\"Best Hyperparameters:\", grid_search.best_params_)\n",
    "\n",
    "# Evaluate on test set\n",
    "best_rf = grid_search.best_estimator_\n",
    "y_pred = best_rf.predict(X_test)\n",
    "print(f\"Test Accuracy: {accuracy_score(y_test, y_pred):.4f}\")\n",
    "\n"
   ]
  },
  {
   "cell_type": "code",
   "execution_count": 17,
   "id": "3ae2ea16",
   "metadata": {},
   "outputs": [
    {
     "name": "stdout",
     "output_type": "stream",
     "text": [
      "n_estimators: 10, MSE: 0.2862\n",
      "n_estimators: 50, MSE: 0.2579\n",
      "n_estimators: 100, MSE: 0.2568\n",
      "n_estimators: 200, MSE: 0.2542\n"
     ]
    },
    {
     "data": {
      "image/png": "[encoded data removed]",
      "text/plain": [
       "<Figure size 640x480 with 1 Axes>"
      ]
     },
     "metadata": {},
     "output_type": "display_data"
    }
   ],
   "source": [
    "# 32 Train a Bagging Regressor with different numbers of base estimators and compare performance\n",
    "from sklearn.datasets import fetch_california_housing\n",
    "from sklearn.ensemble import BaggingRegressor\n",
    "from sklearn.tree import DecisionTreeRegressor\n",
    "from sklearn.model_selection import train_test_split\n",
    "from sklearn.metrics import mean_squared_error\n",
    "import matplotlib.pyplot as plt\n",
    "\n",
    "# Load California Housing dataset\n",
    "data = fetch_california_housing()\n",
    "X, y = data.data, data.target\n",
    "\n",
    "# Split data\n",
    "X_train, X_test, y_train, y_test = train_test_split(X, y, test_size=0.3, random_state=42)\n",
    "\n",
    "# Different numbers of base estimators to try\n",
    "n_estimators_list = [10, 50, 100, 200]\n",
    "\n",
    "mse_scores = []\n",
    "\n",
    "for n in n_estimators_list:\n",
    "    # Initialize Bagging Regressor with Decision Trees\n",
    "    bagging_reg = BaggingRegressor(\n",
    "        estimator=DecisionTreeRegressor(),\n",
    "        n_estimators=n,\n",
    "        random_state=42\n",
    "    )\n",
    "    \n",
    "    # Train\n",
    "    bagging_reg.fit(X_train, y_train)\n",
    "    \n",
    "    # Predict and evaluate\n",
    "    y_pred = bagging_reg.predict(X_test)\n",
    "    mse = mean_squared_error(y_test, y_pred)\n",
    "    mse_scores.append(mse)\n",
    "    print(f\"n_estimators: {n}, MSE: {mse:.4f}\")\n",
    "\n",
    "# Plot MSE vs number of estimators\n",
    "plt.plot(n_estimators_list, mse_scores, marker='o')\n",
    "plt.title('Bagging Regressor Performance vs Number of Estimators')\n",
    "plt.xlabel('Number of Base Estimators')\n",
    "plt.ylabel('Mean Squared Error')\n",
    "plt.grid(True)\n",
    "plt.show()\n",
    "\n"
   ]
  },
  {
   "cell_type": "code",
   "execution_count": 18,
   "id": "2c421770",
   "metadata": {},
   "outputs": [
    {
     "name": "stdout",
     "output_type": "stream",
     "text": [
      "Accuracy: 1.0000\n",
      "\n",
      "Classification Report:\n",
      "              precision    recall  f1-score   support\n",
      "\n",
      "      setosa       1.00      1.00      1.00        19\n",
      "  versicolor       1.00      1.00      1.00        13\n",
      "   virginica       1.00      1.00      1.00        13\n",
      "\n",
      "    accuracy                           1.00        45\n",
      "   macro avg       1.00      1.00      1.00        45\n",
      "weighted avg       1.00      1.00      1.00        45\n",
      "\n",
      "\n",
      "Misclassified Samples:\n"
     ]
    }
   ],
   "source": [
    "# 33 Train a Random Forest Classifier and analyze misclassified samples\n",
    "from sklearn.datasets import load_iris\n",
    "from sklearn.ensemble import RandomForestClassifier\n",
    "from sklearn.model_selection import train_test_split\n",
    "from sklearn.metrics import accuracy_score, classification_report\n",
    "\n",
    "# Load dataset\n",
    "data = load_iris()\n",
    "X, y = data.data, data.target\n",
    "\n",
    "# Split into train and test sets\n",
    "X_train, X_test, y_train, y_test = train_test_split(X, y, test_size=0.3, random_state=42)\n",
    "\n",
    "# Train Random Forest Classifier\n",
    "rf_clf = RandomForestClassifier(random_state=42)\n",
    "rf_clf.fit(X_train, y_train)\n",
    "\n",
    "# Predict on test set\n",
    "y_pred = rf_clf.predict(X_test)\n",
    "\n",
    "# Evaluate accuracy\n",
    "print(f\"Accuracy: {accuracy_score(y_test, y_pred):.4f}\")\n",
    "print(\"\\nClassification Report:\")\n",
    "print(classification_report(y_test, y_pred, target_names=data.target_names))\n",
    "\n",
    "# Identify misclassified samples\n",
    "misclassified_indices = [i for i, (true, pred) in enumerate(zip(y_test, y_pred)) if true != pred]\n",
    "\n",
    "print(\"\\nMisclassified Samples:\")\n",
    "for idx in misclassified_indices:\n",
    "    print(f\"Index: {idx}, True label: {data.target_names[y_test[idx]]}, Predicted label: {data.target_names[y_pred[idx]]}\")\n",
    "\n"
   ]
  },
  {
   "cell_type": "code",
   "execution_count": 20,
   "id": "ec692328",
   "metadata": {},
   "outputs": [
    {
     "name": "stdout",
     "output_type": "stream",
     "text": [
      "Decision Tree Classifier:\n",
      "Accuracy: 1.0000\n",
      "              precision    recall  f1-score   support\n",
      "\n",
      "      setosa       1.00      1.00      1.00        19\n",
      "  versicolor       1.00      1.00      1.00        13\n",
      "   virginica       1.00      1.00      1.00        13\n",
      "\n",
      "    accuracy                           1.00        45\n",
      "   macro avg       1.00      1.00      1.00        45\n",
      "weighted avg       1.00      1.00      1.00        45\n",
      "\n",
      "\n",
      "Bagging Classifier:\n",
      "Accuracy: 1.0000\n",
      "              precision    recall  f1-score   support\n",
      "\n",
      "      setosa       1.00      1.00      1.00        19\n",
      "  versicolor       1.00      1.00      1.00        13\n",
      "   virginica       1.00      1.00      1.00        13\n",
      "\n",
      "    accuracy                           1.00        45\n",
      "   macro avg       1.00      1.00      1.00        45\n",
      "weighted avg       1.00      1.00      1.00        45\n",
      "\n"
     ]
    }
   ],
   "source": [
    "# 34 Train a Bagging Classifier and compare its performance with a single Decision Tree Classifier\n",
    "from sklearn.datasets import load_iris\n",
    "from sklearn.tree import DecisionTreeClassifier\n",
    "from sklearn.ensemble import BaggingClassifier\n",
    "from sklearn.model_selection import train_test_split\n",
    "from sklearn.metrics import accuracy_score, classification_report\n",
    "\n",
    "# Load dataset\n",
    "data = load_iris()\n",
    "X, y = data.data, data.target\n",
    "\n",
    "# Split data\n",
    "X_train, X_test, y_train, y_test = train_test_split(X, y, test_size=0.3, random_state=42)\n",
    "\n",
    "# Train single Decision Tree\n",
    "dt_clf = DecisionTreeClassifier(random_state=42)\n",
    "dt_clf.fit(X_train, y_train)\n",
    "y_pred_dt = dt_clf.predict(X_test)\n",
    "\n",
    "# Train Bagging Classifier with Decision Trees (use 'estimator' instead of 'base_estimator')\n",
    "bagging_clf = BaggingClassifier(\n",
    "    estimator=DecisionTreeClassifier(),\n",
    "    n_estimators=50,\n",
    "    random_state=42\n",
    ")\n",
    "bagging_clf.fit(X_train, y_train)\n",
    "y_pred_bagging = bagging_clf.predict(X_test)\n",
    "\n",
    "# Evaluate and compare\n",
    "print(\"Decision Tree Classifier:\")\n",
    "print(f\"Accuracy: {accuracy_score(y_test, y_pred_dt):.4f}\")\n",
    "print(classification_report(y_test, y_pred_dt, target_names=data.target_names))\n",
    "\n",
    "print(\"\\nBagging Classifier:\")\n",
    "print(f\"Accuracy: {accuracy_score(y_test, y_pred_bagging):.4f}\")\n",
    "print(classification_report(y_test, y_pred_bagging, target_names=data.target_names))\n",
    "\n"
   ]
  },
  {
   "cell_type": "code",
   "execution_count": 21,
   "id": "f2d29ae0",
   "metadata": {},
   "outputs": [
    {
     "data": {
      "image/png": "[encoded data removed]",
      "text/plain": [
       "<Figure size 700x500 with 2 Axes>"
      ]
     },
     "metadata": {},
     "output_type": "display_data"
    }
   ],
   "source": [
    "# 35 Train a Random Forest Classifier and visualize the confusion matrix\n",
    "from sklearn.datasets import load_iris\n",
    "from sklearn.ensemble import RandomForestClassifier\n",
    "from sklearn.model_selection import train_test_split\n",
    "from sklearn.metrics import confusion_matrix, ConfusionMatrixDisplay\n",
    "import seaborn as sns\n",
    "import matplotlib.pyplot as plt\n",
    "\n",
    "# Load dataset\n",
    "data = load_iris()\n",
    "X, y = data.data, data.target\n",
    "target_names = data.target_names\n",
    "\n",
    "# Split into train/test\n",
    "X_train, X_test, y_train, y_test = train_test_split(X, y, test_size=0.3, random_state=42)\n",
    "\n",
    "# Train Random Forest Classifier\n",
    "rf_clf = RandomForestClassifier(random_state=42)\n",
    "rf_clf.fit(X_train, y_train)\n",
    "\n",
    "# Predict on test data\n",
    "y_pred = rf_clf.predict(X_test)\n",
    "\n",
    "# Compute confusion matrix\n",
    "cm = confusion_matrix(y_test, y_pred)\n",
    "\n",
    "# Plot confusion matrix with seaborn heatmap\n",
    "plt.figure(figsize=(7,5))\n",
    "sns.heatmap(cm, annot=True, fmt='d', cmap='Blues', xticklabels=target_names, yticklabels=target_names)\n",
    "plt.xlabel('Predicted')\n",
    "plt.ylabel('True')\n",
    "plt.title('Confusion Matrix - Random Forest Classifier')\n",
    "plt.show()\n"
   ]
  },
  {
   "cell_type": "code",
   "execution_count": 22,
   "id": "672c1ebf",
   "metadata": {},
   "outputs": [
    {
     "name": "stdout",
     "output_type": "stream",
     "text": [
      "Stacking Classifier Accuracy: 1.0000\n",
      "dt Accuracy: 1.0000\n",
      "svm Accuracy: 1.0000\n",
      "lr Accuracy: 1.0000\n"
     ]
    }
   ],
   "source": [
    "# 36 Train a Stacking Classifier using Decision Trees, SVM, and Logistic Regression, and compare accuracy\n",
    "from sklearn.datasets import load_iris\n",
    "from sklearn.model_selection import train_test_split\n",
    "from sklearn.tree import DecisionTreeClassifier\n",
    "from sklearn.svm import SVC\n",
    "from sklearn.linear_model import LogisticRegression\n",
    "from sklearn.ensemble import StackingClassifier\n",
    "from sklearn.metrics import accuracy_score\n",
    "\n",
    "# Load dataset\n",
    "data = load_iris()\n",
    "X, y = data.data, data.target\n",
    "\n",
    "# Split data\n",
    "X_train, X_test, y_train, y_test = train_test_split(X, y, test_size=0.3, random_state=42)\n",
    "\n",
    "# Define base models\n",
    "base_estimators = [\n",
    "    ('dt', DecisionTreeClassifier(random_state=42)),\n",
    "    ('svm', SVC(probability=True, random_state=42)),\n",
    "    ('lr', LogisticRegression(max_iter=1000, random_state=42))\n",
    "]\n",
    "\n",
    "# Define stacking classifier with Logistic Regression as final estimator\n",
    "stacking_clf = StackingClassifier(estimators=base_estimators, final_estimator=LogisticRegression(), cv=5)\n",
    "\n",
    "# Train stacking classifier\n",
    "stacking_clf.fit(X_train, y_train)\n",
    "\n",
    "# Predict and evaluate stacking model\n",
    "y_pred_stack = stacking_clf.predict(X_test)\n",
    "stacking_accuracy = accuracy_score(y_test, y_pred_stack)\n",
    "print(f\"Stacking Classifier Accuracy: {stacking_accuracy:.4f}\")\n",
    "\n",
    "# Train and evaluate base models individually\n",
    "for name, model in base_estimators:\n",
    "    model.fit(X_train, y_train)\n",
    "    y_pred = model.predict(X_test)\n",
    "    acc = accuracy_score(y_test, y_pred)\n",
    "    print(f\"{name} Accuracy: {acc:.4f}\")\n"
   ]
  },
  {
   "cell_type": "code",
   "execution_count": 23,
   "id": "bbe7a3ed",
   "metadata": {},
   "outputs": [
    {
     "name": "stdout",
     "output_type": "stream",
     "text": [
      "Top 5 most important features:\n",
      "petal width (cm): 0.4340\n",
      "petal length (cm): 0.4173\n",
      "sepal length (cm): 0.1041\n",
      "sepal width (cm): 0.0446\n"
     ]
    }
   ],
   "source": [
    "# 37 Train a Random Forest Classifier and print the top 5 most important features\n",
    "from sklearn.datasets import load_iris\n",
    "from sklearn.ensemble import RandomForestClassifier\n",
    "from sklearn.model_selection import train_test_split\n",
    "import numpy as np\n",
    "\n",
    "# Load dataset\n",
    "data = load_iris()\n",
    "X, y = data.data, data.target\n",
    "feature_names = data.feature_names\n",
    "\n",
    "# Split data\n",
    "X_train, X_test, y_train, y_test = train_test_split(X, y, test_size=0.3, random_state=42)\n",
    "\n",
    "# Train Random Forest Classifier\n",
    "rf = RandomForestClassifier(random_state=42)\n",
    "rf.fit(X_train, y_train)\n",
    "\n",
    "# Get feature importances and indices of top 5 features\n",
    "importances = rf.feature_importances_\n",
    "indices = np.argsort(importances)[::-1][:5]\n",
    "\n",
    "print(\"Top 5 most important features:\")\n",
    "for i in indices:\n",
    "    print(f\"{feature_names[i]}: {importances[i]:.4f}\")\n"
   ]
  },
  {
   "cell_type": "code",
   "execution_count": 24,
   "id": "15abd6ab",
   "metadata": {},
   "outputs": [
    {
     "name": "stdout",
     "output_type": "stream",
     "text": [
      "Precision: 1.0000\n",
      "Recall:    1.0000\n",
      "F1-Score:  1.0000\n"
     ]
    }
   ],
   "source": [
    "# 38 Train a Bagging Classifier and evaluate performance using Precision, Recall, and F1-score\n",
    "from sklearn.datasets import load_iris\n",
    "from sklearn.ensemble import BaggingClassifier\n",
    "from sklearn.tree import DecisionTreeClassifier\n",
    "from sklearn.model_selection import train_test_split\n",
    "from sklearn.metrics import precision_score, recall_score, f1_score\n",
    "\n",
    "# Load dataset\n",
    "data = load_iris()\n",
    "X, y = data.data, data.target\n",
    "\n",
    "# For simplicity, let's make it a binary classification problem (class 0 vs rest)\n",
    "y_binary = (y == 0).astype(int)\n",
    "\n",
    "# Split data\n",
    "X_train, X_test, y_train, y_test = train_test_split(X, y_binary, test_size=0.3, random_state=42)\n",
    "\n",
    "# Train Bagging Classifier\n",
    "bagging_clf = BaggingClassifier(\n",
    "    estimator=DecisionTreeClassifier(),\n",
    "    n_estimators=50,\n",
    "    random_state=42\n",
    ")\n",
    "bagging_clf.fit(X_train, y_train)\n",
    "\n",
    "# Predict\n",
    "y_pred = bagging_clf.predict(X_test)\n",
    "\n",
    "# Evaluate\n",
    "precision = precision_score(y_test, y_pred)\n",
    "recall = recall_score(y_test, y_pred)\n",
    "f1 = f1_score(y_test, y_pred)\n",
    "\n",
    "print(f\"Precision: {precision:.4f}\")\n",
    "print(f\"Recall:    {recall:.4f}\")\n",
    "print(f\"F1-Score:  {f1:.4f}\")\n",
    "\n"
   ]
  },
  {
   "cell_type": "code",
   "execution_count": 25,
   "id": "c2f0da0a",
   "metadata": {},
   "outputs": [
    {
     "name": "stdout",
     "output_type": "stream",
     "text": [
      "max_depth = 1: Accuracy = 1.0000\n",
      "max_depth = 2: Accuracy = 1.0000\n",
      "max_depth = 3: Accuracy = 1.0000\n",
      "max_depth = 4: Accuracy = 1.0000\n",
      "max_depth = 5: Accuracy = 1.0000\n",
      "max_depth = 6: Accuracy = 1.0000\n",
      "max_depth = None: Accuracy = 1.0000\n"
     ]
    },
    {
     "data": {
      "image/png": "[encoded data removed]",
      "text/plain": [
       "<Figure size 800x500 with 1 Axes>"
      ]
     },
     "metadata": {},
     "output_type": "display_data"
    }
   ],
   "source": [
    "# 39 Train a Random Forest Classifier and analyze the effect of max_depth on accuracy\n",
    "from sklearn.datasets import load_iris\n",
    "from sklearn.ensemble import RandomForestClassifier\n",
    "from sklearn.model_selection import train_test_split\n",
    "from sklearn.metrics import accuracy_score\n",
    "import matplotlib.pyplot as plt\n",
    "\n",
    "# Load dataset\n",
    "data = load_iris()\n",
    "X, y = data.data, data.target\n",
    "\n",
    "# Split data into train and test sets\n",
    "X_train, X_test, y_train, y_test = train_test_split(X, y, test_size=0.3, random_state=42)\n",
    "\n",
    "# Try different max_depth values\n",
    "max_depth_values = [1, 2, 3, 4, 5, 6, None]\n",
    "accuracies = []\n",
    "\n",
    "for depth in max_depth_values:\n",
    "    rf_clf = RandomForestClassifier(max_depth=depth, n_estimators=100, random_state=42)\n",
    "    rf_clf.fit(X_train, y_train)\n",
    "    y_pred = rf_clf.predict(X_test)\n",
    "    acc = accuracy_score(y_test, y_pred)\n",
    "    accuracies.append(acc)\n",
    "    print(f\"max_depth = {depth}: Accuracy = {acc:.4f}\")\n",
    "\n",
    "# Plot accuracy vs max_depth\n",
    "plt.figure(figsize=(8,5))\n",
    "plt.plot([str(d) for d in max_depth_values], accuracies, marker='o')\n",
    "plt.title('Effect of max_depth on Random Forest Accuracy')\n",
    "plt.xlabel('max_depth')\n",
    "plt.ylabel('Accuracy')\n",
    "plt.grid(True)\n",
    "plt.show()\n"
   ]
  },
  {
   "cell_type": "code",
   "execution_count": 27,
   "id": "7d96ca55",
   "metadata": {},
   "outputs": [
    {
     "name": "stdout",
     "output_type": "stream",
     "text": [
      "Bagging with Decision Tree base estimator - MSE: 0.2579\n",
      "Bagging with K-Nearest Neighbors base estimator - MSE: 1.1021\n"
     ]
    }
   ],
   "source": [
    "# 40 Train a Bagging Regressor using different base estimators (DecisionTree and KNeighbors) and compare performance\n",
    "from sklearn.datasets import fetch_california_housing\n",
    "from sklearn.ensemble import BaggingRegressor\n",
    "from sklearn.tree import DecisionTreeRegressor\n",
    "from sklearn.neighbors import KNeighborsRegressor\n",
    "from sklearn.model_selection import train_test_split\n",
    "from sklearn.metrics import mean_squared_error\n",
    "\n",
    "# Load dataset\n",
    "data = fetch_california_housing()\n",
    "X, y = data.data, data.target\n",
    "\n",
    "# Split into train/test\n",
    "X_train, X_test, y_train, y_test = train_test_split(X, y, test_size=0.3, random_state=42)\n",
    "\n",
    "# Base estimators to try\n",
    "base_estimators = {\n",
    "    \"Decision Tree\": DecisionTreeRegressor(),\n",
    "    \"K-Nearest Neighbors\": KNeighborsRegressor()\n",
    "}\n",
    "\n",
    "# Train and evaluate Bagging Regressor for each base estimator\n",
    "for name, estimator in base_estimators.items():\n",
    "    bagging_reg = BaggingRegressor(estimator=estimator, n_estimators=50, random_state=42)\n",
    "    bagging_reg.fit(X_train, y_train)\n",
    "    y_pred = bagging_reg.predict(X_test)\n",
    "    mse = mean_squared_error(y_test, y_pred)\n",
    "    print(f\"Bagging with {name} base estimator - MSE: {mse:.4f}\")\n",
    "\n"
   ]
  },
  {
   "cell_type": "code",
   "execution_count": 28,
   "id": "d4f59e00",
   "metadata": {},
   "outputs": [
    {
     "name": "stdout",
     "output_type": "stream",
     "text": [
      "ROC-AUC Score: 0.9968\n"
     ]
    },
    {
     "data": {
      "image/png": "[encoded data removed]",
      "text/plain": [
       "<Figure size 640x480 with 1 Axes>"
      ]
     },
     "metadata": {},
     "output_type": "display_data"
    }
   ],
   "source": [
    "# 41 Train a Random Forest Classifier and evaluate its performance using ROC-AUC Score\n",
    "from sklearn.datasets import load_breast_cancer\n",
    "from sklearn.ensemble import RandomForestClassifier\n",
    "from sklearn.model_selection import train_test_split\n",
    "from sklearn.metrics import roc_auc_score, roc_curve\n",
    "import matplotlib.pyplot as plt\n",
    "\n",
    "# Load dataset\n",
    "data = load_breast_cancer()\n",
    "X, y = data.data, data.target\n",
    "\n",
    "# Split into train/test\n",
    "X_train, X_test, y_train, y_test = train_test_split(X, y, test_size=0.3, random_state=42)\n",
    "\n",
    "# Train Random Forest Classifier\n",
    "rf_clf = RandomForestClassifier(n_estimators=100, random_state=42)\n",
    "rf_clf.fit(X_train, y_train)\n",
    "\n",
    "# Predict probabilities for positive class\n",
    "y_probs = rf_clf.predict_proba(X_test)[:, 1]\n",
    "\n",
    "# Calculate ROC-AUC score\n",
    "roc_auc = roc_auc_score(y_test, y_probs)\n",
    "print(f\"ROC-AUC Score: {roc_auc:.4f}\")\n",
    "\n",
    "# Optional: Plot ROC curve\n",
    "fpr, tpr, thresholds = roc_curve(y_test, y_probs)\n",
    "plt.plot(fpr, tpr, label=f'ROC curve (area = {roc_auc:.4f})')\n",
    "plt.plot([0, 1], [0, 1], 'k--')\n",
    "plt.xlabel(\"False Positive Rate\")\n",
    "plt.ylabel(\"True Positive Rate\")\n",
    "plt.title(\"ROC Curve for Random Forest Classifier\")\n",
    "plt.legend(loc=\"lower right\")\n",
    "plt.grid(True)\n",
    "plt.show()\n"
   ]
  },
  {
   "cell_type": "code",
   "execution_count": 29,
   "id": "e8a4aeee",
   "metadata": {},
   "outputs": [
    {
     "name": "stdout",
     "output_type": "stream",
     "text": [
      "Cross-Validation Accuracy Scores: [0.9122807  0.92105263 0.98245614 0.95614035 1.        ]\n",
      "Mean Accuracy: 0.9544\n",
      "Standard Deviation: 0.0339\n"
     ]
    }
   ],
   "source": [
    "# 42 Train a Bagging Classifier and evaluate its performance using cross-validation\n",
    "from sklearn.datasets import load_breast_cancer\n",
    "from sklearn.ensemble import BaggingClassifier\n",
    "from sklearn.tree import DecisionTreeClassifier\n",
    "from sklearn.model_selection import cross_val_score\n",
    "\n",
    "# Load dataset\n",
    "data = load_breast_cancer()\n",
    "X, y = data.data, data.target\n",
    "\n",
    "# Initialize Bagging Classifier with Decision Trees as base estimators\n",
    "bagging_clf = BaggingClassifier(\n",
    "    estimator=DecisionTreeClassifier(),  # use 'estimator' instead of deprecated 'base_estimator'\n",
    "    n_estimators=50,\n",
    "    random_state=42\n",
    ")\n",
    "\n",
    "# Perform 5-fold cross-validation and compute accuracy scores\n",
    "cv_scores = cross_val_score(bagging_clf, X, y, cv=5, scoring='accuracy')\n",
    "\n",
    "print(f\"Cross-Validation Accuracy Scores: {cv_scores}\")\n",
    "print(f\"Mean Accuracy: {cv_scores.mean():.4f}\")\n",
    "print(f\"Standard Deviation: {cv_scores.std():.4f}\")\n"
   ]
  },
  {
   "cell_type": "code",
   "execution_count": 30,
   "id": "35a8de23",
   "metadata": {},
   "outputs": [
    {
     "data": {
      "image/png": "[encoded data removed]",
      "text/plain": [
       "<Figure size 800x600 with 1 Axes>"
      ]
     },
     "metadata": {},
     "output_type": "display_data"
    }
   ],
   "source": [
    "# 43 Train a Random Forest Classifier and plot the Precision-Recall curve\n",
    "import matplotlib.pyplot as plt\n",
    "from sklearn.datasets import load_breast_cancer\n",
    "from sklearn.ensemble import RandomForestClassifier\n",
    "from sklearn.model_selection import train_test_split\n",
    "from sklearn.metrics import precision_recall_curve, average_precision_score\n",
    "\n",
    "# Load dataset\n",
    "data = load_breast_cancer()\n",
    "X, y = data.data, data.target\n",
    "\n",
    "# Split data into train and test sets\n",
    "X_train, X_test, y_train, y_test = train_test_split(X, y, test_size=0.3, random_state=42)\n",
    "\n",
    "# Train Random Forest Classifier\n",
    "rf_clf = RandomForestClassifier(n_estimators=100, random_state=42)\n",
    "rf_clf.fit(X_train, y_train)\n",
    "\n",
    "# Predict probabilities for the positive class\n",
    "y_scores = rf_clf.predict_proba(X_test)[:, 1]\n",
    "\n",
    "# Compute precision-recall pairs\n",
    "precision, recall, thresholds = precision_recall_curve(y_test, y_scores)\n",
    "\n",
    "# Compute average precision score\n",
    "avg_precision = average_precision_score(y_test, y_scores)\n",
    "\n",
    "# Plot Precision-Recall curve\n",
    "plt.figure(figsize=(8, 6))\n",
    "plt.plot(recall, precision, label=f'Average Precision = {avg_precision:.4f}')\n",
    "plt.xlabel('Recall')\n",
    "plt.ylabel('Precision')\n",
    "plt.title('Precision-Recall Curve for Random Forest Classifier')\n",
    "plt.legend()\n",
    "plt.grid(True)\n",
    "plt.show()\n"
   ]
  },
  {
   "cell_type": "code",
   "execution_count": 31,
   "id": "d9471772",
   "metadata": {},
   "outputs": [
    {
     "name": "stderr",
     "output_type": "stream",
     "text": [
      "c:\\Users\\Hari Vignesh\\AppData\\Local\\Programs\\Python\\Python313\\Lib\\site-packages\\sklearn\\linear_model\\_logistic.py:465: ConvergenceWarning: lbfgs failed to converge (status=1):\n",
      "STOP: TOTAL NO. OF ITERATIONS REACHED LIMIT.\n",
      "\n",
      "Increase the number of iterations (max_iter) or scale the data as shown in:\n",
      "    https://scikit-learn.org/stable/modules/preprocessing.html\n",
      "Please also refer to the documentation for alternative solver options:\n",
      "    https://scikit-learn.org/stable/modules/linear_model.html#logistic-regression\n",
      "  n_iter_i = _check_optimize_result(\n",
      "c:\\Users\\Hari Vignesh\\AppData\\Local\\Programs\\Python\\Python313\\Lib\\site-packages\\sklearn\\linear_model\\_logistic.py:465: ConvergenceWarning: lbfgs failed to converge (status=1):\n",
      "STOP: TOTAL NO. OF ITERATIONS REACHED LIMIT.\n",
      "\n",
      "Increase the number of iterations (max_iter) or scale the data as shown in:\n",
      "    https://scikit-learn.org/stable/modules/preprocessing.html\n",
      "Please also refer to the documentation for alternative solver options:\n",
      "    https://scikit-learn.org/stable/modules/linear_model.html#logistic-regression\n",
      "  n_iter_i = _check_optimize_result(\n",
      "c:\\Users\\Hari Vignesh\\AppData\\Local\\Programs\\Python\\Python313\\Lib\\site-packages\\sklearn\\linear_model\\_logistic.py:465: ConvergenceWarning: lbfgs failed to converge (status=1):\n",
      "STOP: TOTAL NO. OF ITERATIONS REACHED LIMIT.\n",
      "\n",
      "Increase the number of iterations (max_iter) or scale the data as shown in:\n",
      "    https://scikit-learn.org/stable/modules/preprocessing.html\n",
      "Please also refer to the documentation for alternative solver options:\n",
      "    https://scikit-learn.org/stable/modules/linear_model.html#logistic-regression\n",
      "  n_iter_i = _check_optimize_result(\n",
      "c:\\Users\\Hari Vignesh\\AppData\\Local\\Programs\\Python\\Python313\\Lib\\site-packages\\sklearn\\linear_model\\_logistic.py:465: ConvergenceWarning: lbfgs failed to converge (status=1):\n",
      "STOP: TOTAL NO. OF ITERATIONS REACHED LIMIT.\n",
      "\n",
      "Increase the number of iterations (max_iter) or scale the data as shown in:\n",
      "    https://scikit-learn.org/stable/modules/preprocessing.html\n",
      "Please also refer to the documentation for alternative solver options:\n",
      "    https://scikit-learn.org/stable/modules/linear_model.html#logistic-regression\n",
      "  n_iter_i = _check_optimize_result(\n",
      "c:\\Users\\Hari Vignesh\\AppData\\Local\\Programs\\Python\\Python313\\Lib\\site-packages\\sklearn\\linear_model\\_logistic.py:465: ConvergenceWarning: lbfgs failed to converge (status=1):\n",
      "STOP: TOTAL NO. OF ITERATIONS REACHED LIMIT.\n",
      "\n",
      "Increase the number of iterations (max_iter) or scale the data as shown in:\n",
      "    https://scikit-learn.org/stable/modules/preprocessing.html\n",
      "Please also refer to the documentation for alternative solver options:\n",
      "    https://scikit-learn.org/stable/modules/linear_model.html#logistic-regression\n",
      "  n_iter_i = _check_optimize_result(\n",
      "c:\\Users\\Hari Vignesh\\AppData\\Local\\Programs\\Python\\Python313\\Lib\\site-packages\\sklearn\\linear_model\\_logistic.py:465: ConvergenceWarning: lbfgs failed to converge (status=1):\n",
      "STOP: TOTAL NO. OF ITERATIONS REACHED LIMIT.\n",
      "\n",
      "Increase the number of iterations (max_iter) or scale the data as shown in:\n",
      "    https://scikit-learn.org/stable/modules/preprocessing.html\n",
      "Please also refer to the documentation for alternative solver options:\n",
      "    https://scikit-learn.org/stable/modules/linear_model.html#logistic-regression\n",
      "  n_iter_i = _check_optimize_result(\n"
     ]
    },
    {
     "name": "stdout",
     "output_type": "stream",
     "text": [
      "Random Forest Accuracy: 0.9708\n",
      "Logistic Regression Accuracy: 0.9649\n",
      "Stacking Classifier Accuracy: 0.9708\n"
     ]
    },
    {
     "name": "stderr",
     "output_type": "stream",
     "text": [
      "c:\\Users\\Hari Vignesh\\AppData\\Local\\Programs\\Python\\Python313\\Lib\\site-packages\\sklearn\\linear_model\\_logistic.py:465: ConvergenceWarning: lbfgs failed to converge (status=1):\n",
      "STOP: TOTAL NO. OF ITERATIONS REACHED LIMIT.\n",
      "\n",
      "Increase the number of iterations (max_iter) or scale the data as shown in:\n",
      "    https://scikit-learn.org/stable/modules/preprocessing.html\n",
      "Please also refer to the documentation for alternative solver options:\n",
      "    https://scikit-learn.org/stable/modules/linear_model.html#logistic-regression\n",
      "  n_iter_i = _check_optimize_result(\n"
     ]
    }
   ],
   "source": [
    "# 44 Train a Stacking Classifier with Random Forest and Logistic Regression and compare accuracy\n",
    "from sklearn.datasets import load_breast_cancer\n",
    "from sklearn.ensemble import RandomForestClassifier, StackingClassifier\n",
    "from sklearn.linear_model import LogisticRegression\n",
    "from sklearn.model_selection import train_test_split\n",
    "from sklearn.metrics import accuracy_score\n",
    "\n",
    "# Load dataset\n",
    "data = load_breast_cancer()\n",
    "X, y = data.data, data.target\n",
    "\n",
    "# Split into train and test sets\n",
    "X_train, X_test, y_train, y_test = train_test_split(X, y, test_size=0.3, random_state=42)\n",
    "\n",
    "# Initialize base models\n",
    "rf = RandomForestClassifier(n_estimators=100, random_state=42)\n",
    "lr = LogisticRegression(max_iter=1000, random_state=42)\n",
    "\n",
    "# Initialize Stacking Classifier with Random Forest and Logistic Regression\n",
    "estimators = [('rf', rf), ('lr', lr)]\n",
    "stacking_clf = StackingClassifier(estimators=estimators, final_estimator=LogisticRegression(), cv=5)\n",
    "\n",
    "# Train base models and stacking model\n",
    "rf.fit(X_train, y_train)\n",
    "lr.fit(X_train, y_train)\n",
    "stacking_clf.fit(X_train, y_train)\n",
    "\n",
    "# Predict and evaluate accuracy\n",
    "y_pred_rf = rf.predict(X_test)\n",
    "y_pred_lr = lr.predict(X_test)\n",
    "y_pred_stack = stacking_clf.predict(X_test)\n",
    "\n",
    "print(f\"Random Forest Accuracy: {accuracy_score(y_test, y_pred_rf):.4f}\")\n",
    "print(f\"Logistic Regression Accuracy: {accuracy_score(y_test, y_pred_lr):.4f}\")\n",
    "print(f\"Stacking Classifier Accuracy: {accuracy_score(y_test, y_pred_stack):.4f}\")\n"
   ]
  },
  {
   "cell_type": "code",
   "execution_count": 33,
   "id": "adead8ec",
   "metadata": {},
   "outputs": [
    {
     "name": "stdout",
     "output_type": "stream",
     "text": [
      "Bootstrap=True, Mean Squared Error: 0.2568\n",
      "Bootstrap=False, Mean Squared Error: 0.4968\n"
     ]
    },
    {
     "data": {
      "image/png": "[encoded data removed]",
      "text/plain": [
       "<Figure size 640x480 with 1 Axes>"
      ]
     },
     "metadata": {},
     "output_type": "display_data"
    }
   ],
   "source": [
    "# 45 Train a Bagging Regressor with different levels of bootstrap samples and compare performance\n",
    "from sklearn.datasets import fetch_california_housing\n",
    "from sklearn.ensemble import BaggingRegressor\n",
    "from sklearn.tree import DecisionTreeRegressor\n",
    "from sklearn.model_selection import train_test_split\n",
    "from sklearn.metrics import mean_squared_error\n",
    "import matplotlib.pyplot as plt\n",
    "\n",
    "# Load dataset\n",
    "data = fetch_california_housing()\n",
    "X, y = data.data, data.target\n",
    "\n",
    "# Split dataset\n",
    "X_train, X_test, y_train, y_test = train_test_split(X, y, test_size=0.3, random_state=42)\n",
    "\n",
    "# Different bootstrap settings to test\n",
    "bootstrap_options = [True, False]\n",
    "mse_scores = []\n",
    "\n",
    "for bootstrap in bootstrap_options:\n",
    "    bagging_reg = BaggingRegressor(\n",
    "        estimator=DecisionTreeRegressor(),  # updated parameter here\n",
    "        n_estimators=100,\n",
    "        bootstrap=bootstrap,\n",
    "        random_state=42\n",
    "    )\n",
    "    bagging_reg.fit(X_train, y_train)\n",
    "    y_pred = bagging_reg.predict(X_test)\n",
    "    mse = mean_squared_error(y_test, y_pred)\n",
    "    mse_scores.append(mse)\n",
    "    print(f\"Bootstrap={bootstrap}, Mean Squared Error: {mse:.4f}\")\n",
    "\n",
    "# Plot comparison\n",
    "plt.bar(['Bootstrap=True', 'Bootstrap=False'], mse_scores, color=['blue', 'orange'])\n",
    "plt.ylabel('Mean Squared Error')\n",
    "plt.title('Bagging Regressor Performance with Different Bootstrap Settings')\n",
    "plt.show()\n",
    "\n"
   ]
  }
 ],
 "metadata": {
  "kernelspec": {
   "display_name": "Python 3",
   "language": "python",
   "name": "python3"
  },
  "language_info": {
   "codemirror_mode": {
    "name": "ipython",
    "version": 3
   },
   "file_extension": ".py",
   "mimetype": "text/x-python",
   "name": "python",
   "nbconvert_exporter": "python",
   "pygments_lexer": "ipython3",
   "version": "3.13.1"
  }
 },
 "nbformat": 4,
 "nbformat_minor": 5
}
